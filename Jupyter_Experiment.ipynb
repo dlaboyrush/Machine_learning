{
  "nbformat": 4,
  "nbformat_minor": 0,
  "metadata": {
    "colab": {
      "provenance": [],
      "authorship_tag": "ABX9TyNZTadgFOffoySsoQBliHpE",
      "include_colab_link": true
    },
    "kernelspec": {
      "name": "python3",
      "display_name": "Python 3"
    },
    "language_info": {
      "name": "python"
    }
  },
  "cells": [
    {
      "cell_type": "markdown",
      "metadata": {
        "id": "view-in-github",
        "colab_type": "text"
      },
      "source": [
        "<a href=\"https://colab.research.google.com/github/dlaboyrush/Machine_learning/blob/main/Jupyter_Experiment.ipynb\" target=\"_parent\"><img src=\"https://colab.research.google.com/assets/colab-badge.svg\" alt=\"Open In Colab\"/></a>"
      ]
    },
    {
      "cell_type": "code",
      "execution_count": null,
      "metadata": {
        "id": "HF2ZPvlrfvI_"
      },
      "outputs": [],
      "source": []
    },
    {
      "cell_type": "code",
      "source": [
        " %time\n",
        " print('Table of squares')\n",
        " for i in range(10):\n",
        "   print(f'{i} times {i} = {i*i}')"
      ],
      "metadata": {
        "colab": {
          "base_uri": "https://localhost:8080/"
        },
        "id": "X_dMTiOChWlQ",
        "outputId": "94199c05-f878-4add-e6e1-8bf0c574dace"
      },
      "execution_count": 4,
      "outputs": [
        {
          "output_type": "stream",
          "name": "stdout",
          "text": [
            "CPU times: user 3 µs, sys: 1 µs, total: 4 µs\n",
            "Wall time: 5.01 µs\n",
            "Table of squares\n",
            "0 times 0 = 0\n",
            "1 times 1 = 1\n",
            "2 times 2 = 4\n",
            "3 times 3 = 9\n",
            "4 times 4 = 16\n",
            "5 times 5 = 25\n",
            "6 times 6 = 36\n",
            "7 times 7 = 49\n",
            "8 times 8 = 64\n",
            "9 times 9 = 81\n"
          ]
        }
      ]
    },
    {
      "cell_type": "markdown",
      "source": [
        "ax^{2} +bx+ c=0"
      ],
      "metadata": {
        "id": "VBAT7MCJf4de"
      }
    }
  ]
}